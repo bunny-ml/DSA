{
 "cells": [
  {
   "cell_type": "code",
   "execution_count": 3,
   "id": "3e966a58",
   "metadata": {},
   "outputs": [
    {
     "name": "stdout",
     "output_type": "stream",
     "text": [
      "\"Hello world!\", The DSA is Below \n"
     ]
    }
   ],
   "source": [
    "print('\"Hello world!\", The DSA is Below ')"
   ]
  },
  {
   "cell_type": "markdown",
   "id": "19ca4565",
   "metadata": {},
   "source": [
    "# linked list"
   ]
  },
  {
   "cell_type": "code",
   "execution_count": 77,
   "id": "8c3408e8",
   "metadata": {},
   "outputs": [],
   "source": [
    "class SinglyNode: \n",
    "\n",
    "    def __init__(self, val , next=None):\n",
    "        self.val = val \n",
    "        self.next = next\n",
    "\n",
    "    def __str__(self):\n",
    "        return str(self.val)"
   ]
  },
  {
   "cell_type": "code",
   "execution_count": 78,
   "id": "dc6f1ce0",
   "metadata": {},
   "outputs": [
    {
     "name": "stdout",
     "output_type": "stream",
     "text": [
      "1\n"
     ]
    }
   ],
   "source": [
    "Head = SinglyNode(1)\n",
    "A = SinglyNode(3)\n",
    "B = SinglyNode(4)\n",
    "C = SinglyNode(7)\n",
    "\n",
    "Head.next = A\n",
    "A.next = B\n",
    "B.next = C\n",
    "\n",
    "\n",
    "print(Head)"
   ]
  },
  {
   "cell_type": "code",
   "execution_count": 79,
   "id": "ae142bb1",
   "metadata": {},
   "outputs": [
    {
     "name": "stdout",
     "output_type": "stream",
     "text": [
      "1\n",
      "3\n",
      "4\n",
      "7\n"
     ]
    }
   ],
   "source": [
    "# triversal of the linked list and it takes o(n) time as we have to go through every linked list node\n",
    " \n",
    "\n",
    "curr = Head\n",
    "\n",
    "while curr:\n",
    "    print(curr)\n",
    "    curr = curr.next"
   ]
  },
  {
   "cell_type": "code",
   "execution_count": 80,
   "id": "d4de4693",
   "metadata": {},
   "outputs": [
    {
     "name": "stdout",
     "output_type": "stream",
     "text": [
      "3 -> 4 -> 7 -> None\n"
     ]
    }
   ],
   "source": [
    "# display linked list - O(n)\n",
    "\n",
    "def display(head):\n",
    "    curr = head\n",
    "    elements = []\n",
    "    while curr:\n",
    "        elements.append(str(curr.next))\n",
    "        curr = curr.next\n",
    "\n",
    "    print(' -> '.join(elements))\n",
    "\n",
    "display(Head)"
   ]
  },
  {
   "cell_type": "code",
   "execution_count": 81,
   "id": "17236bfb",
   "metadata": {},
   "outputs": [
    {
     "data": {
      "text/plain": [
       "True"
      ]
     },
     "execution_count": 81,
     "metadata": {},
     "output_type": "execute_result"
    }
   ],
   "source": [
    "def search(head , val):\n",
    "    curr = head\n",
    "    while curr:\n",
    "        if val == curr.val:\n",
    "            return True\n",
    "        curr = curr.next\n",
    "    return False \n",
    "\n",
    "search(Head , 7)"
   ]
  },
  {
   "cell_type": "markdown",
   "id": "e583e1cd",
   "metadata": {},
   "source": [
    "# Doubly linked list"
   ]
  },
  {
   "cell_type": "code",
   "execution_count": 82,
   "id": "4cbd0179",
   "metadata": {},
   "outputs": [],
   "source": [
    "class DoublyNode:\n",
    "\n",
    "    def __init__(self, val , next=None , prev=None):\n",
    "        self.val = val\n",
    "        self.next = next\n",
    "        self.prev = prev\n",
    "\n",
    "    def __str__(self):\n",
    "        return str(self.val)\n"
   ]
  },
  {
   "cell_type": "code",
   "execution_count": 83,
   "id": "386ffd97",
   "metadata": {},
   "outputs": [
    {
     "name": "stdout",
     "output_type": "stream",
     "text": [
      "1\n"
     ]
    }
   ],
   "source": [
    "head = tail = DoublyNode(1)\n",
    "print(tail)"
   ]
  },
  {
   "cell_type": "code",
   "execution_count": 84,
   "id": "485835cd",
   "metadata": {},
   "outputs": [
    {
     "name": "stdout",
     "output_type": "stream",
     "text": [
      "1\n"
     ]
    }
   ],
   "source": [
    "def display(head):\n",
    "    curr = head\n",
    "    elements = []\n",
    "    while curr:\n",
    "        elements.append(str(curr.val))\n",
    "        curr = curr.next\n",
    "    print(\" -> \".join(elements))\n",
    "\n",
    "display(head)"
   ]
  },
  {
   "cell_type": "code",
   "execution_count": 85,
   "id": "d259a650",
   "metadata": {},
   "outputs": [
    {
     "name": "stdout",
     "output_type": "stream",
     "text": [
      "70 -> 1\n"
     ]
    }
   ],
   "source": [
    "# insert at begining -o(1)\n",
    "\n",
    "def insert_at_begining(head, tail, val):\n",
    "    new_node = DoublyNode(val , next=head)\n",
    "    head.prev = new_node\n",
    "    return new_node , tail\n",
    "\n",
    "head , tail = insert_at_begining(head , tail , 70)\n",
    "display(head)"
   ]
  },
  {
   "cell_type": "code",
   "execution_count": 86,
   "id": "08fa66e0",
   "metadata": {},
   "outputs": [
    {
     "data": {
      "text/plain": [
       "False"
      ]
     },
     "execution_count": 86,
     "metadata": {},
     "output_type": "execute_result"
    }
   ],
   "source": [
    "search(head, 30)"
   ]
  },
  {
   "cell_type": "code",
   "execution_count": 88,
   "id": "32026927",
   "metadata": {},
   "outputs": [
    {
     "name": "stdout",
     "output_type": "stream",
     "text": [
      "70 -> 1 -> 9 -> 9\n"
     ]
    }
   ],
   "source": [
    "#  insert at the end - o(1)\n",
    "\n",
    "def insert_at_end(head, tail , val):\n",
    "    new_node = DoublyNode(val, prev=tail)\n",
    "    tail.next = new_node\n",
    "    return head , new_node\n",
    "\n",
    "head , tail = insert_at_end(head , tail , 9)\n",
    "display(head) "
   ]
  },
  {
   "cell_type": "markdown",
   "id": "a9c4bdb8",
   "metadata": {},
   "source": [
    "# hash table\n",
    "1) hash function\n",
    "2)  hash set\n",
    "3)  hash map\n",
    "\n",
    "- store something like a key value pair and key is hashable \n",
    "- it can be used to look the value at any index in *o(1) time.\n",
    "\n",
    "- there is also a linked list in it only where the hash clashes we use the linked list at that point \n",
    "\n",
    "1) hashable (immutable)\n",
    "- string , integer , tuple\n",
    "\n",
    "2) not hashable (mutable)\n",
    "- arrays , dictonaries\n",
    "\n"
   ]
  },
  {
   "cell_type": "code",
   "execution_count": 4,
   "id": "1ec2b655",
   "metadata": {},
   "outputs": [
    {
     "name": "stdout",
     "output_type": "stream",
     "text": [
      "set()\n"
     ]
    }
   ],
   "source": [
    "# hashsets\n",
    "\n",
    "s = set()\n",
    "print(s)"
   ]
  },
  {
   "cell_type": "code",
   "execution_count": 14,
   "id": "f1ae5bb7",
   "metadata": {},
   "outputs": [
    {
     "name": "stdout",
     "output_type": "stream",
     "text": [
      "{1, 2, 3}\n"
     ]
    }
   ],
   "source": [
    "s.add(1)\n",
    "s.add(2)\n",
    "s.add(3)\n",
    "\n",
    "print(s)"
   ]
  },
  {
   "cell_type": "code",
   "execution_count": 15,
   "id": "46ad1c24",
   "metadata": {},
   "outputs": [
    {
     "name": "stdout",
     "output_type": "stream",
     "text": [
      "True\n"
     ]
    }
   ],
   "source": [
    "# lookup if item in se - o(1)\n",
    "\n",
    "if 2 in s:\n",
    "    print(True)\n",
    "else:\n",
    "    print(False)"
   ]
  },
  {
   "cell_type": "code",
   "execution_count": 16,
   "id": "f6aa04b4",
   "metadata": {},
   "outputs": [
    {
     "name": "stdout",
     "output_type": "stream",
     "text": [
      "{1, 3}\n"
     ]
    }
   ],
   "source": [
    "s.remove(2)\n",
    "\n",
    "print(s)"
   ]
  },
  {
   "cell_type": "code",
   "execution_count": 18,
   "id": "f9efdb3c",
   "metadata": {},
   "outputs": [
    {
     "data": {
      "text/plain": [
       "{'a', 'd', 'i', 'j', 'k', 'l', 'o', 'p', 'q', 's', 'u'}"
      ]
     },
     "execution_count": 18,
     "metadata": {},
     "output_type": "execute_result"
    }
   ],
   "source": [
    "string = 'lkasjdlkajdlaksjdlakiuiopupq'\n",
    "sett = set(string)\n",
    "\n",
    "sett"
   ]
  },
  {
   "cell_type": "code",
   "execution_count": 22,
   "id": "c2c162ed",
   "metadata": {},
   "outputs": [
    {
     "name": "stdout",
     "output_type": "stream",
     "text": [
      "i\n",
      "k\n",
      "a\n",
      "u\n",
      "j\n",
      "d\n",
      "s\n",
      "l\n",
      "p\n",
      "q\n",
      "o\n"
     ]
    }
   ],
   "source": [
    "# loop over item in set - o(n)\n",
    "\n",
    "for x in sett:\n",
    "    print(x)"
   ]
  },
  {
   "cell_type": "code",
   "execution_count": 26,
   "id": "1a1d3023",
   "metadata": {},
   "outputs": [
    {
     "name": "stdout",
     "output_type": "stream",
     "text": [
      "{'a': 1, 'b': 2, 'c': 3}\n"
     ]
    }
   ],
   "source": [
    "# hashmaps - Dictonaries \n",
    "\n",
    "d = {'a': 1, 'b':2 , 'c':3}\n",
    "\n",
    "print(d)"
   ]
  },
  {
   "cell_type": "code",
   "execution_count": 29,
   "id": "0ecbd5c5",
   "metadata": {},
   "outputs": [
    {
     "name": "stdout",
     "output_type": "stream",
     "text": [
      "{'a': 100, 'b': 2, 'c': 3}\n"
     ]
    }
   ],
   "source": [
    "# add key: val in dictionary : o(1)\n",
    "\n",
    "d['a'] = 100\n",
    "\n",
    "print(d)"
   ]
  },
  {
   "cell_type": "code",
   "execution_count": 31,
   "id": "67c12390",
   "metadata": {},
   "outputs": [
    {
     "name": "stdout",
     "output_type": "stream",
     "text": [
      "True\n"
     ]
    }
   ],
   "source": [
    "# check if presence of the key in dictionary - o(1)\n",
    "\n",
    "if 'a' in d:\n",
    "    print(True)"
   ]
  },
  {
   "cell_type": "code",
   "execution_count": 33,
   "id": "0f12c317",
   "metadata": {},
   "outputs": [
    {
     "name": "stdout",
     "output_type": "stream",
     "text": [
      "100\n"
     ]
    }
   ],
   "source": [
    "# check the value corresponding to a key in dictonary o(1)\n",
    "\n",
    "print(d['a'])"
   ]
  },
  {
   "cell_type": "code",
   "execution_count": 36,
   "id": "82af3442",
   "metadata": {},
   "outputs": [
    {
     "name": "stdout",
     "output_type": "stream",
     "text": [
      "key a: value 100\n",
      "key b: value 2\n",
      "key c: value 3\n"
     ]
    }
   ],
   "source": [
    "# loop over to key:val pairs of the dictionary : o(n)\n",
    "\n",
    "for key , val in d.items():\n",
    "    print(f'key {key}: value {val}')"
   ]
  },
  {
   "cell_type": "code",
   "execution_count": 47,
   "id": "d2061933",
   "metadata": {},
   "outputs": [
    {
     "data": {
      "text/plain": [
       "[]"
      ]
     },
     "execution_count": 47,
     "metadata": {},
     "output_type": "execute_result"
    }
   ],
   "source": [
    "# default dict \n",
    "\n",
    "from collections import defaultdict\n",
    "\n",
    "default = defaultdict(list)\n",
    "\n",
    "default[2]"
   ]
  },
  {
   "cell_type": "code",
   "execution_count": 48,
   "id": "c7dbb499",
   "metadata": {},
   "outputs": [
    {
     "data": {
      "text/plain": [
       "defaultdict(list, {2: []})"
      ]
     },
     "execution_count": 48,
     "metadata": {},
     "output_type": "execute_result"
    }
   ],
   "source": [
    "default"
   ]
  },
  {
   "cell_type": "code",
   "execution_count": 51,
   "id": "6cef7356",
   "metadata": {},
   "outputs": [
    {
     "name": "stdout",
     "output_type": "stream",
     "text": [
      "Counter({'l': 4, 'k': 4, 'a': 4, 'j': 3, 'd': 3, 's': 2, 'i': 2, 'u': 2, 'p': 2, 'o': 1, 'q': 1})\n"
     ]
    }
   ],
   "source": [
    "# counter \n",
    "\n",
    "from collections import Counter\n",
    "\n",
    "counter = Counter(string)\n",
    "\n",
    "print(counter)\n",
    "\n",
    "# do not use it in interviews or other "
   ]
  },
  {
   "cell_type": "markdown",
   "id": "de913e24",
   "metadata": {},
   "source": [
    "# stack and queues"
   ]
  },
  {
   "cell_type": "markdown",
   "id": "099ecc79",
   "metadata": {},
   "source": [
    "## stack (use array under the hood )"
   ]
  },
  {
   "cell_type": "code",
   "execution_count": 1,
   "id": "86f5e646",
   "metadata": {},
   "outputs": [],
   "source": [
    "\n",
    "\n",
    "# append as *o(1) if there is space in static array and in dynamic is *o(1)\n",
    "# pop : o(1)\n",
    "# peek: o(1)\n",
    "# isEmpty : o(1)\n",
    "\n"
   ]
  },
  {
   "cell_type": "code",
   "execution_count": 26,
   "id": "fb37b6b5",
   "metadata": {},
   "outputs": [
    {
     "name": "stdout",
     "output_type": "stream",
     "text": [
      "[]\n"
     ]
    }
   ],
   "source": [
    "stk = []\n",
    "print(stk)"
   ]
  },
  {
   "cell_type": "code",
   "execution_count": 27,
   "id": "ced98e18",
   "metadata": {},
   "outputs": [
    {
     "name": "stdout",
     "output_type": "stream",
     "text": [
      "[1, 3]\n"
     ]
    }
   ],
   "source": [
    "# append in o(1)\n",
    "stk.append(1)\n",
    "stk.append(3)\n",
    "\n",
    "print(stk)"
   ]
  },
  {
   "cell_type": "code",
   "execution_count": 28,
   "id": "aa982850",
   "metadata": {},
   "outputs": [
    {
     "name": "stdout",
     "output_type": "stream",
     "text": [
      "[1]\n"
     ]
    }
   ],
   "source": [
    "# pop in o(1)\n",
    "stk.pop()\n",
    "print(stk)"
   ]
  },
  {
   "cell_type": "code",
   "execution_count": null,
   "id": "c7d6cda7",
   "metadata": {},
   "outputs": [
    {
     "name": "stdout",
     "output_type": "stream",
     "text": [
      "1\n"
     ]
    }
   ],
   "source": [
    "# ask what is on top - o(1)\n",
    "print(stk[-1])"
   ]
  },
  {
   "cell_type": "code",
   "execution_count": 31,
   "id": "0917d2bf",
   "metadata": {},
   "outputs": [
    {
     "name": "stdout",
     "output_type": "stream",
     "text": [
      "False\n"
     ]
    }
   ],
   "source": [
    "# stack is empty or not \n",
    "if stk:\n",
    "    print(False)\n",
    "else:\n",
    "    print(True)"
   ]
  },
  {
   "cell_type": "markdown",
   "id": "1a745fd1",
   "metadata": {},
   "source": [
    "## Queues (use doubly linked list under the hood)"
   ]
  },
  {
   "cell_type": "code",
   "execution_count": 32,
   "id": "d156b1e6",
   "metadata": {},
   "outputs": [],
   "source": [
    "# Enqueue(x)   - *o(1)   \n",
    "# Dequeue - o(n) for o(1) use doubly linked list\n",
    "# \n"
   ]
  },
  {
   "cell_type": "code",
   "execution_count": 35,
   "id": "5e885fd2",
   "metadata": {},
   "outputs": [
    {
     "data": {
      "text/plain": [
       "deque([])"
      ]
     },
     "execution_count": 35,
     "metadata": {},
     "output_type": "execute_result"
    }
   ],
   "source": [
    "# double ended Queue ( add and pop from both side )\n",
    "from collections import deque\n",
    "\n",
    "q = deque()\n",
    "q"
   ]
  },
  {
   "cell_type": "code",
   "execution_count": 40,
   "id": "c0e89d8c",
   "metadata": {},
   "outputs": [
    {
     "data": {
      "text/plain": [
       "deque([6, 5, 6, 8, 5, 6, 8])"
      ]
     },
     "execution_count": 40,
     "metadata": {},
     "output_type": "execute_result"
    }
   ],
   "source": [
    "# enqueue in - o(1)\n",
    "q.append(5)\n",
    "q.append(6)\n",
    "q.append(8)\n",
    "q"
   ]
  },
  {
   "cell_type": "code",
   "execution_count": 41,
   "id": "f6be8157",
   "metadata": {},
   "outputs": [
    {
     "data": {
      "text/plain": [
       "deque([5, 6, 8, 5, 6, 8])"
      ]
     },
     "execution_count": 41,
     "metadata": {},
     "output_type": "execute_result"
    }
   ],
   "source": [
    "# dequeue in o(1)\n",
    "\n",
    "q.popleft()\n",
    "q"
   ]
  },
  {
   "cell_type": "code",
   "execution_count": 42,
   "id": "2d69d869",
   "metadata": {},
   "outputs": [
    {
     "data": {
      "text/plain": [
       "8"
      ]
     },
     "execution_count": 42,
     "metadata": {},
     "output_type": "execute_result"
    }
   ],
   "source": [
    "# peek from left side -o(1)\n",
    "\n",
    "q[-1]"
   ]
  },
  {
   "cell_type": "code",
   "execution_count": 43,
   "id": "5eba7c1b",
   "metadata": {},
   "outputs": [
    {
     "data": {
      "text/plain": [
       "5"
      ]
     },
     "execution_count": 43,
     "metadata": {},
     "output_type": "execute_result"
    }
   ],
   "source": [
    "# peek on rigth -o(1)\n",
    "\n",
    "q[0]"
   ]
  },
  {
   "cell_type": "markdown",
   "id": "b002df59",
   "metadata": {},
   "source": [
    "# Recursion\n",
    "\n",
    "is a stack or recursive call stack\n",
    "\n",
    "- It is used in trees , graphs , linked list other "
   ]
  },
  {
   "cell_type": "markdown",
   "id": "89ec6748",
   "metadata": {},
   "source": [
    "### fibanocci number  0 1 1 2 3 5 8 13 --- so on\n",
    "\n",
    "f(0) = 0    \n",
    "f(1) = 1   \n",
    "f(n) = f(n-1) + f(n-2 ) for n > 1"
   ]
  },
  {
   "cell_type": "code",
   "execution_count": 34,
   "id": "4c236d01",
   "metadata": {},
   "outputs": [
    {
     "data": {
      "text/plain": [
       "55"
      ]
     },
     "execution_count": 34,
     "metadata": {},
     "output_type": "execute_result"
    }
   ],
   "source": [
    "# fibanocci numbers or sequence \n",
    "\n",
    "\"\"\" time - o(2^n)\n",
    "    space - o(n) \n",
    "\"\"\"\n",
    "def fibanocci(n):\n",
    "    if n == 0:\n",
    "        return 0\n",
    "    elif n == 1:\n",
    "        return 1\n",
    "    else:\n",
    "        return fibanocci(n-1) + fibanocci(n-2)\n",
    " \n",
    "%timeit\n",
    "fibanocci(10)"
   ]
  },
  {
   "cell_type": "code",
   "execution_count": 38,
   "id": "9b6b0338",
   "metadata": {},
   "outputs": [],
   "source": [
    "# print fibanocci sequnece \n",
    "\"\"\" most efficient code fro fibanocci numbers \"\"\"\n",
    "\n",
    "def fibanocci_sequence(n):\n",
    "    a , b = 0 ,1\n",
    "    print(a)\n",
    "    if n > 0:\n",
    "        pass\n",
    "        print(b)\n",
    "    for _ in range(2 , n+1):\n",
    "        c = a+ b\n",
    "        print(c)\n",
    "        a = b\n",
    "        b = c\n",
    "# m = %memit \n",
    "# fibanocci_sequence(9)\n",
    "# %timeit fibanocci_sequence(9)\n"
   ]
  },
  {
   "cell_type": "code",
   "execution_count": 42,
   "id": "f0c15d66",
   "metadata": {},
   "outputs": [
    {
     "name": "stdout",
     "output_type": "stream",
     "text": [
      "1\n"
     ]
    }
   ],
   "source": [
    "# linked list \n",
    "\n",
    "class SinglyNode:\n",
    "\n",
    "    def __init__(self, val , next=None):\n",
    "        self.val = val\n",
    "        self.next = next\n",
    "    \n",
    "    def __str__(self):\n",
    "        return str(self.val)\n",
    "    \n",
    "Head = SinglyNode(1)\n",
    "A = SinglyNode(2)\n",
    "B = SinglyNode(3)\n",
    "\n",
    "Head.next = A\n",
    "A.next = B\n",
    "\n",
    "print(Head)"
   ]
  },
  {
   "cell_type": "code",
   "execution_count": 46,
   "id": "95997558",
   "metadata": {},
   "outputs": [
    {
     "name": "stdout",
     "output_type": "stream",
     "text": [
      "3\n",
      "2\n",
      "1\n"
     ]
    }
   ],
   "source": [
    "# time complexit - o(n), space - o(n)\n",
    "\n",
    "def reverse_linked_list(node):\n",
    "    if not node:\n",
    "        return \n",
    "    \n",
    "    reverse_linked_list(node.next)\n",
    "    print(node)\n",
    "\n",
    "reverse_linked_list(Head)"
   ]
  },
  {
   "cell_type": "markdown",
   "id": "c09aa3ea",
   "metadata": {},
   "source": [
    "# Binary Search\n",
    "\n",
    "sorted array for binary search"
   ]
  },
  {
   "cell_type": "code",
   "execution_count": 49,
   "id": "e35966da",
   "metadata": {},
   "outputs": [],
   "source": [
    "# [-5, -3, -2, 1, 3, 5]        \n",
    "# L         M         R       using two pointer \n",
    "\n",
    "# lookup 3\n",
    "# L = 0\n",
    "# R = N -1\n",
    "# M = (L+R) // 2 -------> is not mpst ideal formula \n",
    "# M = L +(R-L) // 2\n",
    "\n",
    "\n",
    "# time complexit - o(log2n)\n",
    "# space complexity - o(1)"
   ]
  },
  {
   "cell_type": "code",
   "execution_count": 51,
   "id": "b23b0aef",
   "metadata": {},
   "outputs": [
    {
     "name": "stdout",
     "output_type": "stream",
     "text": [
      "True\n"
     ]
    }
   ],
   "source": [
    "A = [-3 , -1 , 0, 1, 4, 7]\n",
    "\n",
    "# naive o(n) searching\n",
    "if - 1 in A:\n",
    "    print(True)"
   ]
  },
  {
   "cell_type": "code",
   "execution_count": 55,
   "id": "3eb38530",
   "metadata": {},
   "outputs": [
    {
     "data": {
      "text/plain": [
       "True"
      ]
     },
     "execution_count": 55,
     "metadata": {},
     "output_type": "execute_result"
    }
   ],
   "source": [
    "# traditional binary search\n",
    "# time = o(log n)\n",
    "# space = o(1)\n",
    "\n",
    "\n",
    "def binay_search(arr, target):\n",
    "    N = len(arr)\n",
    "    L = 0\n",
    "    R = N - 1\n",
    "\n",
    "    while L <= R:\n",
    "        M = L + ((R-L) // 2)\n",
    "\n",
    "        if arr[M] == target:\n",
    "            return True\n",
    "        elif target < arr[M]:\n",
    "            R = M -1\n",
    "        else:\n",
    "            L = M + 1\n",
    "    return False\n",
    "\n",
    "binay_search(A , 7)"
   ]
  },
  {
   "cell_type": "code",
   "execution_count": 58,
   "id": "8abfe133",
   "metadata": {},
   "outputs": [
    {
     "data": {
      "text/plain": [
       "4"
      ]
     },
     "execution_count": 58,
     "metadata": {},
     "output_type": "execute_result"
    }
   ],
   "source": [
    "# condition based\n",
    "\n",
    "B = [ False , False , False , False  , True]\n",
    "\n",
    "def binary_search_condition(arr ):\n",
    "    N = len(arr)\n",
    "    L = 0\n",
    "    R = N -1\n",
    "\n",
    "    while L < R:\n",
    "        M = (L + R) // 2\n",
    "\n",
    "        if B[M]:\n",
    "            R = M\n",
    "        else:\n",
    "            L = M + 1\n",
    "\n",
    "    return L\n",
    "\n",
    "binary_search_condition(B)"
   ]
  }
 ],
 "metadata": {
  "kernelspec": {
   "display_name": ".venv (3.10.12)",
   "language": "python",
   "name": "python3"
  },
  "language_info": {
   "codemirror_mode": {
    "name": "ipython",
    "version": 3
   },
   "file_extension": ".py",
   "mimetype": "text/x-python",
   "name": "python",
   "nbconvert_exporter": "python",
   "pygments_lexer": "ipython3",
   "version": "3.10.12"
  }
 },
 "nbformat": 4,
 "nbformat_minor": 5
}
